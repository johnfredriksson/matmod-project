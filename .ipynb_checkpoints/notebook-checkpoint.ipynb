{
 "cells": [
  {
   "cell_type": "markdown",
   "id": "46efbd37",
   "metadata": {},
   "source": [
    "# Analys av priser för bostadsrätter i Stockholm, Göteborg och Malmö.\n",
    "\n",
    "\n",
    "\n",
    "#### Att priset på bostadsrätter skiljer sig åt runt om i landet är vida känt där det finns en uppsjö av olika faktorer som påverkar slutpriset. Allt från byggnadsår, skick, storlek och inte minst läget som vi i denna analysen kommer fokusera på.\n",
    "\n",
    "I denna artikel jämför vi priser på bostadsrätter i Sveriges tre största städer Stockholm, Göteborg och Malmö. Dataunderlaget hämtas dynamiskt från webbplatsen Booli som tillhandahåller information kring objekt som finns till salu och de som sålts. Booli var den första sajten i Sverige att publicera slutpriser offentligt där dess data hämtas in regelbundet från mäklare, säljare och köpare. De hämtar också priser från budgivningar och lagfarter som köpts in från Lantmäteriet. Booli’s data bedöms vara trovärdig.\n",
    "\n",
    "För att göra en så jämn bedömning som möjligt består urvalet av de 35 senaste registrerade försäljningar av tvårums-lägenheter för varje stad, området begränsas av Booli’s syn på centrum. Ur de objekten hämtar vi data för stad, pris, antal kvadratmeter, pris per kvadratmeter och förändring i procent mellan prisförslag och slutpris. Målet är att se om det finns en tydlig skillnad i priser och hur slutpriset står sig mot prisförslaget, är det större sannolikhet att priset ökar under budgivning i Malmö än Göteborg?"
   ]
  },
  {
   "cell_type": "code",
   "execution_count": null,
   "id": "7433b1ea",
   "metadata": {},
   "outputs": [],
   "source": []
  }
 ],
 "metadata": {
  "kernelspec": {
   "display_name": "Python 3 (ipykernel)",
   "language": "python",
   "name": "python3"
  },
  "language_info": {
   "codemirror_mode": {
    "name": "ipython",
    "version": 3
   },
   "file_extension": ".py",
   "mimetype": "text/x-python",
   "name": "python",
   "nbconvert_exporter": "python",
   "pygments_lexer": "ipython3",
   "version": "3.10.6"
  }
 },
 "nbformat": 4,
 "nbformat_minor": 5
}
